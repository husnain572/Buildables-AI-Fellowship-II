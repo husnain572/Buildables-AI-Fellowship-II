{
 "cells": [
  {
   "cell_type": "markdown",
   "id": "98b49d18",
   "metadata": {},
   "source": [
    "## Part 1: Tiktoken (OpenAI’s Tokenizer)\n"
   ]
  },
  {
   "cell_type": "markdown",
   "id": "466bf7e5",
   "metadata": {},
   "source": [
    "### 1. What is tiktoken?\n",
    "\n",
    "* `tiktoken` is OpenAI’s **official library** for tokenization.\n",
    "* Any text sent to GPT models (GPT-3.5, GPT-4) is first converted into tokens (numbers).\n",
    "* `tiktoken` lets you see how text is broken into tokens and then mapped to numbers.\n"
   ]
  },
  {
   "cell_type": "markdown",
   "id": "0ef0299a",
   "metadata": {},
   "source": [
    "### 2. Installation\n"
   ]
  },
  {
   "cell_type": "code",
   "execution_count": 13,
   "id": "ac3571c3",
   "metadata": {},
   "outputs": [],
   "source": [
    "# pip install tiktoken\n"
   ]
  },
  {
   "cell_type": "markdown",
   "id": "5c0ca2d3",
   "metadata": {},
   "source": [
    "### 3. Basic Usage\n"
   ]
  },
  {
   "cell_type": "code",
   "execution_count": 14,
   "id": "8293753e",
   "metadata": {},
   "outputs": [
    {
     "name": "stdout",
     "output_type": "stream",
     "text": [
      "[9906, 11, 1268, 527, 499, 30]\n",
      "Hello, how are you?\n"
     ]
    }
   ],
   "source": [
    "import tiktoken\n",
    "\n",
    "# Load GPT-4 tokenizer\n",
    "enc = tiktoken.get_encoding(\"cl100k_base\")\n",
    "\n",
    "# Encode text\n",
    "text = \"Hello, how are you?\"\n",
    "tokens = enc.encode(text)\n",
    "print(tokens)   # [9906, 11, 703, 389, 345, 30]\n",
    "\n",
    "# Decode back\n",
    "print(enc.decode(tokens))  # \"Hello, how are you?\""
   ]
  },
  {
   "cell_type": "markdown",
   "id": "1e65341c",
   "metadata": {},
   "source": [
    "Explanation:\n",
    "\n",
    "* `encode()` → converts text into tokens (IDs).\n",
    "* `decode()` → converts tokens back into text.\n",
    "\n",
    "### 4. Model-specific tokenizers\n",
    "\n",
    "* `\"cl100k_base\"` → GPT-4, GPT-3.5\n",
    "* `\"p50k_base\"` → Codex models\n",
    "* `\"r50k_base\"` → older GPT-3\n",
    "\n",
    "Each model uses its own tokenizer.\n",
    "\n",
    "---"
   ]
  },
  {
   "cell_type": "markdown",
   "id": "3076ab7a",
   "metadata": {},
   "source": [
    "## Part 2: Hugging Face Tokenizers\n",
    "\n",
    "### 1. What is Hugging Face Tokenizer?\n",
    "\n",
    "* Hugging Face provides the **Transformers library**.\n",
    "* Each model (BERT, GPT-2, RoBERTa, etc.) has its own tokenizer.\n",
    "* `AutoTokenizer` automatically loads the correct tokenizer for the model."
   ]
  },
  {
   "cell_type": "markdown",
   "id": "bf103895",
   "metadata": {},
   "source": [
    "### 2. Installation\n"
   ]
  },
  {
   "cell_type": "code",
   "execution_count": 15,
   "id": "026403d2",
   "metadata": {},
   "outputs": [],
   "source": [
    "# pip install transformers\n"
   ]
  },
  {
   "cell_type": "markdown",
   "id": "d343964a",
   "metadata": {},
   "source": [
    "### 3. Basic Usage\n"
   ]
  },
  {
   "cell_type": "code",
   "execution_count": 16,
   "id": "bcef87d2",
   "metadata": {},
   "outputs": [
    {
     "name": "stdout",
     "output_type": "stream",
     "text": [
      "['Hello', ',', 'Ġhow', 'Ġare', 'Ġyou', '?']\n",
      "[15496, 11, 703, 389, 345, 30]\n",
      "Hello, how are you?\n"
     ]
    }
   ],
   "source": [
    "from transformers import AutoTokenizer\n",
    "\n",
    "# Load GPT-2 tokenizer\n",
    "tokenizer = AutoTokenizer.from_pretrained(\"gpt2\")\n",
    "\n",
    "text = \"Hello, how are you?\"\n",
    "\n",
    "# Tokens in words/subwords\n",
    "tokens = tokenizer.tokenize(text)\n",
    "print(tokens)   # ['Hello', ',', 'Ġhow', 'Ġare', 'Ġyou', '?']\n",
    "\n",
    "# Convert to IDs\n",
    "ids = tokenizer.encode(text)\n",
    "print(ids)  # [15496, 11, 703, 389, 345, 30]\n",
    "\n",
    "# Decode back\n",
    "print(tokenizer.decode(ids))  # \"Hello, how are you?\""
   ]
  },
  {
   "cell_type": "markdown",
   "id": "e66ac648",
   "metadata": {},
   "source": [
    "Explanation:\n",
    "\n",
    "* `tokenize()` → returns tokens as strings.\n",
    "* `encode()` → converts text into token IDs.\n",
    "* `decode()` → converts IDs back into text.\n",
    "\n",
    "---\n",
    "\n",
    "### Common Hugging Face Tokenizers\n",
    "\n",
    "1. GPT family\n",
    "\n",
    "   * `\"gpt2\"`\n",
    "   * `\"distilgpt2\"`\n",
    "\n",
    "2. BERT family\n",
    "\n",
    "   * `\"bert-base-uncased\"`\n",
    "   * `\"bert-base-cased\"`\n",
    "   * `\"bert-base-multilingual-cased\"`\n",
    "\n",
    "3. RoBERTa family\n",
    "\n",
    "   * `\"roberta-base\"`\n",
    "   * `\"roberta-large\"`\n",
    "\n",
    "4. Distil models\n",
    "\n",
    "   * `\"distilbert-base-uncased\"`\n",
    "   * `\"distilroberta-base\"`\n",
    "\n",
    "5. Others\n",
    "\n",
    "   * `\"albert-base-v2\"`\n",
    "   * `\"xlm-roberta-base\"`\n",
    "   * `\"t5-small\"`, `\"t5-base\"`\n",
    "\n",
    "---\n",
    "\n",
    "## Difference Between Both\n",
    "\n",
    "| Feature            | Tiktoken (OpenAI)         | Hugging Face (Transformers)     |\n",
    "| ------------------ | ------------------------- | ------------------------------- |\n",
    "| Purpose            | OpenAI GPT models only    | Any model (GPT, BERT, etc.)     |\n",
    "| Install size       | Lightweight, very fast    | Heavy, loads whole library      |\n",
    "| Tokenization style | GPT-3.5/4 optimized       | Model-specific                  |\n",
    "| Use case           | Token counting, cost calc | Research, training, fine-tuning |\n",
    "\n",
    "---\n"
   ]
  }
 ],
 "metadata": {
  "kernelspec": {
   "display_name": "ml_env",
   "language": "python",
   "name": "python3"
  },
  "language_info": {
   "codemirror_mode": {
    "name": "ipython",
    "version": 3
   },
   "file_extension": ".py",
   "mimetype": "text/x-python",
   "name": "python",
   "nbconvert_exporter": "python",
   "pygments_lexer": "ipython3",
   "version": "3.10.18"
  }
 },
 "nbformat": 4,
 "nbformat_minor": 5
}
